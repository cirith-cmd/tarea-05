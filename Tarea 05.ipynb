{
 "cells": [
  {
   "cell_type": "code",
   "execution_count": 12,
   "metadata": {},
   "outputs": [
    {
     "name": "stdout",
     "output_type": "stream",
     "text": [
      "(150, 5)\n"
     ]
    },
    {
     "data": {
      "text/plain": [
       "sepal length    0\n",
       "sepal width     0\n",
       "petal length    0\n",
       "petal width     0\n",
       "class           0\n",
       "dtype: int64"
      ]
     },
     "execution_count": 12,
     "metadata": {},
     "output_type": "execute_result"
    }
   ],
   "source": [
    "import pandas as pd\n",
    "link = \"https://raw.githubusercontent.com/plotly/datasets/master/iris-data.csv\"\n",
    "df = pd.read_csv(link)\n",
    "print(df.shape)\n",
    "df.head()\n",
    "\n",
    "## Descripción del dataset\n",
    "\n",
    "\"\"\"\n",
    "El dataset de la flor Iris contiene las siguientes columnas:\n",
    "- `sepal_length`: Longitud del sépalo en centímetros.\n",
    "- `sepal_width`: Ancho del sépalo en centímetros.\n",
    "- `petal_length`: Longitud del pétalo en centímetros.\n",
    "- `petal_width`: Ancho del pétalo en centímetros.\n",
    "- `class`: Clase de la flor Iris (Iris-setosa, Iris-versicolor, Iris-virginica).\n",
    "\n",
    "\"\"\"\n",
    "\n",
    "df.describe()\n",
    "\n",
    "# Revisar valores nulos\n",
    "\n",
    "df.isnull().sum()\n",
    "\n",
    "# Estadísticas de cada columna numérica\n",
    "\n",
    "df.describe()\n"
   ]
  }
 ],
 "metadata": {
  "kernelspec": {
   "display_name": "mi_entorno (Python 3.12)",
   "language": "python",
   "name": "mi_entorno"
  },
  "language_info": {
   "codemirror_mode": {
    "name": "ipython",
    "version": 3
   },
   "file_extension": ".py",
   "mimetype": "text/x-python",
   "name": "python",
   "nbconvert_exporter": "python",
   "pygments_lexer": "ipython3",
   "version": "3.11.7"
  }
 },
 "nbformat": 4,
 "nbformat_minor": 2
}
